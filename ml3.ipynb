{
  "nbformat": 4,
  "nbformat_minor": 0,
  "metadata": {
    "colab": {
      "name": "ml3.ipynb",
      "provenance": [],
      "authorship_tag": "ABX9TyOn8jv1vA2iF8fQbgT/hpSK",
      "include_colab_link": true
    },
    "kernelspec": {
      "name": "python3",
      "display_name": "Python 3"
    },
    "language_info": {
      "name": "python"
    }
  },
  "cells": [
    {
      "cell_type": "markdown",
      "metadata": {
        "id": "view-in-github",
        "colab_type": "text"
      },
      "source": [
        "<a href=\"https://colab.research.google.com/github/ProCoderscoe/ML_LAB/blob/main/ml3.ipynb\" target=\"_parent\"><img src=\"https://colab.research.google.com/assets/colab-badge.svg\" alt=\"Open In Colab\"/></a>"
      ]
    },
    {
      "cell_type": "code",
      "execution_count": 6,
      "metadata": {
        "colab": {
          "base_uri": "https://localhost:8080/"
        },
        "id": "_be1-RLx3i20",
        "outputId": "a1b53e6b-a2f8-462e-b8eb-dee8669e0eec"
      },
      "outputs": [
        {
          "output_type": "stream",
          "name": "stdout",
          "text": [
            "[[2 4]\n",
            " [4 6]\n",
            " [4 4]\n",
            " [4 2]\n",
            " [6 4]\n",
            " [6 2]]\n",
            "['negative' 'negative' 'postive' 'negative' 'negative' 'positive']\n",
            "The predicition of classifier is : ['negative']\n",
            "The predicition of classifier is : ['negative']\n"
          ]
        }
      ],
      "source": [
        "#step1\n",
        "downloaded = drive.CreateFile({'id':'1oikTU46hEkvGW_DeFyWos5_6q3cX6h7B'}) # replace the id with id of file you want to access\n",
        "downloaded.GetContentFile('knndata.csv') \n",
        "\n",
        "#step2\n",
        "#Importing Libraries\n",
        "\n",
        "import numpy as np\n",
        "import pandas as pd\n",
        "\n",
        "# To split dataset into its attributes and labels.\n",
        "\n",
        "dataset=pd.read_csv(\"knndata.csv\")\n",
        "X=dataset.iloc[:,:-1].values\n",
        "print(X)\n",
        "Y=dataset.iloc[:,2].values\n",
        "print(Y)\n",
        "\n",
        "# Training of KNN Classification Model using trained data\n",
        "\n",
        "from sklearn.neighbors import KNeighborsClassifier  \n",
        "classifier = KNeighborsClassifier(n_neighbors=3)  \n",
        "classifier.fit(X,Y)  \n",
        "\n",
        "# Testing  KNN Classification Model using unseen test data\n",
        "\n",
        "X_test=np.array([6,6])\n",
        "y_pred = classifier.predict([X_test]) \n",
        "print ('The predicition of classifier is :', y_pred)\n",
        "classifier = KNeighborsClassifier(n_neighbors=3,weights='distance')\n",
        "classifier.fit(X,Y) \n",
        "# predict the class for points(6,6)\n",
        "X_test=np.array([6,6])\n",
        "y_pred = classifier.predict([X_test]) \n",
        "print ('The predicition of classifier is :', y_pred)"
      ]
    }
  ]
}